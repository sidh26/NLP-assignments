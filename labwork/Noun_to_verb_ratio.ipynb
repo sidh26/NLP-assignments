{
  "nbformat": 4,
  "nbformat_minor": 0,
  "metadata": {
    "colab": {
      "name": "Noun to verb ratio.ipynb",
      "provenance": [],
      "collapsed_sections": [],
      "include_colab_link": true
    },
    "kernelspec": {
      "name": "python3",
      "display_name": "Python 3"
    },
    "accelerator": "GPU"
  },
  "cells": [
    {
      "cell_type": "markdown",
      "metadata": {
        "id": "view-in-github",
        "colab_type": "text"
      },
      "source": [
        "<a href=\"https://colab.research.google.com/github/sidh26/NLP-assignments/blob/master/labwork/Noun_to_verb_ratio.ipynb\" target=\"_parent\"><img src=\"https://colab.research.google.com/assets/colab-badge.svg\" alt=\"Open In Colab\"/></a>"
      ]
    },
    {
      "cell_type": "code",
      "metadata": {
        "id": "QteXRNmJ84X5",
        "colab_type": "code",
        "colab": {}
      },
      "source": [
        "import pandas as pd\n",
        "import re\n",
        "import numpy as np"
      ],
      "execution_count": 0,
      "outputs": []
    },
    {
      "cell_type": "code",
      "metadata": {
        "id": "W7w5nNVpuLKm",
        "colab_type": "code",
        "colab": {}
      },
      "source": [
        "from nltk import word_tokenize\n",
        "from nltk.tokenize import MWETokenizer\n",
        "from nltk.stem.wordnet import WordNetLemmatizer\n",
        "import nltk"
      ],
      "execution_count": 0,
      "outputs": []
    },
    {
      "cell_type": "code",
      "metadata": {
        "id": "5Q2H9Wg4T0v8",
        "colab_type": "code",
        "outputId": "4c857070-5ea0-46c1-ab68-44022ca567bf",
        "colab": {
          "base_uri": "https://localhost:8080/",
          "height": 151
        }
      },
      "source": [
        "nltk.download('punkt')\n",
        "nltk.download('wordnet')\n",
        "nltk.download('averaged_perceptron_tagger')"
      ],
      "execution_count": 4,
      "outputs": [
        {
          "output_type": "stream",
          "text": [
            "[nltk_data] Downloading package punkt to /root/nltk_data...\n",
            "[nltk_data]   Unzipping tokenizers/punkt.zip.\n",
            "[nltk_data] Downloading package wordnet to /root/nltk_data...\n",
            "[nltk_data]   Unzipping corpora/wordnet.zip.\n",
            "[nltk_data] Downloading package averaged_perceptron_tagger to\n",
            "[nltk_data]     /root/nltk_data...\n",
            "[nltk_data]   Unzipping taggers/averaged_perceptron_tagger.zip.\n"
          ],
          "name": "stdout"
        },
        {
          "output_type": "execute_result",
          "data": {
            "text/plain": [
              "True"
            ]
          },
          "metadata": {
            "tags": []
          },
          "execution_count": 4
        }
      ]
    },
    {
      "cell_type": "code",
      "metadata": {
        "id": "CaXKuytbUa96",
        "colab_type": "code",
        "colab": {}
      },
      "source": [
        "data = pd.read_json(\"http://snap.stanford.edu/data/amazon/productGraph/categoryFiles/reviews_Office_Products_5.json.gz\", lines=True)"
      ],
      "execution_count": 0,
      "outputs": []
    },
    {
      "cell_type": "code",
      "metadata": {
        "id": "cL4N_jg87N_F",
        "colab_type": "code",
        "colab": {}
      },
      "source": [
        "doc = data.iloc[0,4]\n",
        "# doc = doc.lower()\n",
        "# doc = re.sub(r'[^A-Za-z0-9\\s]', ' ', doc)\n",
        "# doc = doc.split(' ')\n",
        "# doc = [i for i in doc if i != '']"
      ],
      "execution_count": 0,
      "outputs": []
    },
    {
      "cell_type": "code",
      "metadata": {
        "id": "Uczvg5Ra7RoI",
        "colab_type": "code",
        "outputId": "009ee137-4a13-4e0c-f7ca-22bead3da972",
        "colab": {
          "base_uri": "https://localhost:8080/",
          "height": 54
        }
      },
      "source": [
        "doc"
      ],
      "execution_count": 0,
      "outputs": [
        {
          "output_type": "execute_result",
          "data": {
            "text/plain": [
              "\"I bought my first HP12C in about 1984 or so, and it served me faithfully until 2002 when I lost it while travelling.  I searched for another one to replace it, but found one difficult to come by in my area.  So, I decided to buy up and purchased an HP 49G.  What a mistake!  I know that many people view the HP 49G (now 49G+) as the flagship of the HP line, but for me that was a disaster.The 49G may be powerful, but using it is extremely counterintuitive...and the manual was sketchy at best.  The 12C, on the other hand, does what I need in a way that makes good sense to me.If you are looking for a solid, reliable calculator, the HP12C may be for you.  It's programmable.  It does basic statistics well, and many business applications too.  The manual makes sense; you will be up and running in short order.I'm ready to set my 49G aside and move back to my old friend.  I didn't even have to replace the batteries in well over a decade of use!HP 12C, I'm coming home!\""
            ]
          },
          "metadata": {
            "tags": []
          },
          "execution_count": 24
        }
      ]
    },
    {
      "cell_type": "code",
      "metadata": {
        "id": "9V5vsHgY7TNA",
        "colab_type": "code",
        "colab": {}
      },
      "source": [
        "def noun_verb_ratio(data):\n",
        "    doc = data['reviewText']\n",
        "    doc=doc.lower()\n",
        "    tokens = word_tokenize(doc)\n",
        "    tags = nltk.pos_tag(tokens)\n",
        "    nouns = []\n",
        "    verbs = []\n",
        "    for tup in tags:\n",
        "        # if 'this' == tup[0].lower():\n",
        "        #     print(tup)\n",
        "        # if 'i' == tup[0].lower() and tup[1].lower() !='prp':\n",
        "        #     print(tup)\n",
        "        #     print(doc)\n",
        "        if 'nn' in tup[1].lower():\n",
        "            nouns.append(tup[0])\n",
        "        elif 'vb' in tup[1].lower():\n",
        "            verbs.append(tup[0])\n",
        "    try:\n",
        "        ratio = len(nouns)/len(verbs)\n",
        "    except ZeroDivisionError:\n",
        "        ratio = 'inf'\n",
        "    return {'Nouns': nouns, 'Number of Nouns': len(nouns),'Verbs': verbs, 'Number of Verbs': len(verbs), 'Ratio': ratio}"
      ],
      "execution_count": 0,
      "outputs": []
    },
    {
      "cell_type": "code",
      "metadata": {
        "id": "dzFGrXAv97Vs",
        "colab_type": "code",
        "colab": {}
      },
      "source": [
        "data['sentiment'] = data[:1000].apply(noun_verb_ratio, axis=1)"
      ],
      "execution_count": 0,
      "outputs": []
    },
    {
      "cell_type": "code",
      "metadata": {
        "id": "2hjnxhWwD0fg",
        "colab_type": "code",
        "outputId": "9a93e829-3cab-4f39-f80b-a5d8a75fdc43",
        "colab": {
          "base_uri": "https://localhost:8080/",
          "height": 118
        }
      },
      "source": [
        "data['sentiment'].head()"
      ],
      "execution_count": 58,
      "outputs": [
        {
          "output_type": "execute_result",
          "data": {
            "text/plain": [
              "0    {'Nouns': ['i', 'hp12c', 'i', 'i', 'area', 'i'...\n",
              "1    {'Nouns': ['review', 'share', 'views', 'workho...\n",
              "2    {'Nouns': ['i', 'hp', 'years', 'hp', 'years', ...\n",
              "3    {'Nouns': ['i', 'finance', 'stuff', 'time-valu...\n",
              "4    {'Nouns': ['calculations', 'cash', 'flows', 'i...\n",
              "Name: sentiment, dtype: object"
            ]
          },
          "metadata": {
            "tags": []
          },
          "execution_count": 58
        }
      ]
    },
    {
      "cell_type": "code",
      "metadata": {
        "id": "41ZtrY_cD4wE",
        "colab_type": "code",
        "outputId": "78b1035a-8b5f-44db-9245-eff500e48f70",
        "colab": {
          "base_uri": "https://localhost:8080/",
          "height": 1000
        }
      },
      "source": [
        "data['sentiment'][0]"
      ],
      "execution_count": 59,
      "outputs": [
        {
          "output_type": "execute_result",
          "data": {
            "text/plain": [
              "{'Nouns': ['i',\n",
              "  'hp12c',\n",
              "  'i',\n",
              "  'i',\n",
              "  'area',\n",
              "  'i',\n",
              "  'hp',\n",
              "  'mistake',\n",
              "  'i',\n",
              "  'people',\n",
              "  'hp',\n",
              "  'flagship',\n",
              "  'hp',\n",
              "  'line',\n",
              "  'manual',\n",
              "  'hand',\n",
              "  'way',\n",
              "  'sense',\n",
              "  'calculator',\n",
              "  'hp12c',\n",
              "  'statistics',\n",
              "  'business',\n",
              "  'applications',\n",
              "  'sense',\n",
              "  'order.i',\n",
              "  'friend',\n",
              "  'i',\n",
              "  'batteries',\n",
              "  'decade',\n",
              "  'use',\n",
              "  'hp',\n",
              "  'home'],\n",
              " 'Number of Nouns': 32,\n",
              " 'Number of Verbs': 40,\n",
              " 'Ratio': 0.8,\n",
              " 'Verbs': ['bought',\n",
              "  'served',\n",
              "  'lost',\n",
              "  'travelling',\n",
              "  'searched',\n",
              "  'replace',\n",
              "  'found',\n",
              "  'come',\n",
              "  'decided',\n",
              "  'buy',\n",
              "  'purchased',\n",
              "  'know',\n",
              "  'view',\n",
              "  'was',\n",
              "  'be',\n",
              "  'using',\n",
              "  'is',\n",
              "  'was',\n",
              "  'sketchy',\n",
              "  'does',\n",
              "  'i',\n",
              "  'need',\n",
              "  'makes',\n",
              "  'me.if',\n",
              "  'are',\n",
              "  'looking',\n",
              "  'be',\n",
              "  \"'s\",\n",
              "  'does',\n",
              "  'makes',\n",
              "  'be',\n",
              "  'running',\n",
              "  \"'m\",\n",
              "  'set',\n",
              "  'move',\n",
              "  'did',\n",
              "  'have',\n",
              "  'replace',\n",
              "  \"'m\",\n",
              "  'coming']}"
            ]
          },
          "metadata": {
            "tags": []
          },
          "execution_count": 59
        }
      ]
    },
    {
      "cell_type": "code",
      "metadata": {
        "id": "O5YnW-5XOrQ9",
        "colab_type": "code",
        "colab": {}
      },
      "source": [
        ""
      ],
      "execution_count": 0,
      "outputs": []
    }
  ]
}