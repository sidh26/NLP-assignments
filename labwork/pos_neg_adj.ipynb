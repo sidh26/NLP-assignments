{
  "nbformat": 4,
  "nbformat_minor": 0,
  "metadata": {
    "colab": {
      "name": "Positive and Negative.ipynb",
      "provenance": [],
      "include_colab_link": true
    },
    "kernelspec": {
      "name": "python3",
      "display_name": "Python 3"
    },
    "accelerator": "GPU"
  },
  "cells": [
    {
      "cell_type": "markdown",
      "metadata": {
        "id": "view-in-github",
        "colab_type": "text"
      },
      "source": [
        "<a href=\"https://colab.research.google.com/github/sidh26/NLP-assignments/blob/master/labwork/pos_neg_adj.ipynb\" target=\"_parent\"><img src=\"https://colab.research.google.com/assets/colab-badge.svg\" alt=\"Open In Colab\"/></a>"
      ]
    },
    {
      "cell_type": "code",
      "metadata": {
        "id": "H1ivJ-b-qcWG",
        "colab_type": "code",
        "colab": {}
      },
      "source": [
        "pos=[]\n",
        "with open('positive-words.txt') as fpos:\n",
        "    for line in fpos:\n",
        "        pos.append(line[:-1])\n",
        "neg=[]\n",
        "with open('negative-words.txt',  encoding=\"ISO-8859-1\") as fneg:\n",
        "    for line in fneg:\n",
        "        neg.append(line[:-1])"
      ],
      "execution_count": 0,
      "outputs": []
    },
    {
      "cell_type": "code",
      "metadata": {
        "id": "QteXRNmJ84X5",
        "colab_type": "code",
        "colab": {}
      },
      "source": [
        "import pandas as pd\n",
        "import re"
      ],
      "execution_count": 0,
      "outputs": []
    },
    {
      "cell_type": "code",
      "metadata": {
        "id": "W7w5nNVpuLKm",
        "colab_type": "code",
        "colab": {}
      },
      "source": [
        "from nltk import word_tokenize\n",
        "from nltk.tokenize import MWETokenizer\n",
        "from nltk.stem.wordnet import WordNetLemmatizer\n",
        "import nltk"
      ],
      "execution_count": 0,
      "outputs": []
    },
    {
      "cell_type": "code",
      "metadata": {
        "id": "5Q2H9Wg4T0v8",
        "colab_type": "code",
        "outputId": "d03142ae-f9d7-4c17-cabc-a7de6057fbe3",
        "colab": {
          "base_uri": "https://localhost:8080/",
          "height": 168
        }
      },
      "source": [
        "nltk.download('punkt')\n",
        "nltk.download('wordnet')\n",
        "nltk.download('averaged_perceptron_tagger')"
      ],
      "execution_count": 9,
      "outputs": [
        {
          "output_type": "stream",
          "text": [
            "[nltk_data] Downloading package punkt to /root/nltk_data...\n",
            "[nltk_data]   Package punkt is already up-to-date!\n",
            "[nltk_data] Downloading package wordnet to /root/nltk_data...\n",
            "[nltk_data]   Package wordnet is already up-to-date!\n",
            "[nltk_data] Downloading package averaged_perceptron_tagger to\n",
            "[nltk_data]     /root/nltk_data...\n",
            "[nltk_data]   Package averaged_perceptron_tagger is already up-to-\n",
            "[nltk_data]       date!\n"
          ],
          "name": "stdout"
        },
        {
          "output_type": "execute_result",
          "data": {
            "text/plain": [
              "True"
            ]
          },
          "metadata": {
            "tags": []
          },
          "execution_count": 9
        }
      ]
    },
    {
      "cell_type": "code",
      "metadata": {
        "id": "CaXKuytbUa96",
        "colab_type": "code",
        "colab": {}
      },
      "source": [
        "data = pd.read_json(\"http://snap.stanford.edu/data/amazon/productGraph/categoryFiles/reviews_Office_Products_5.json.gz\", lines=True)"
      ],
      "execution_count": 0,
      "outputs": []
    },
    {
      "cell_type": "code",
      "metadata": {
        "id": "cL4N_jg87N_F",
        "colab_type": "code",
        "colab": {}
      },
      "source": [
        "doc = data.iloc[0,4]\n",
        "# doc = doc.lower()\n",
        "# doc = re.sub(r'[^A-Za-z0-9\\s]', ' ', doc)\n",
        "# doc = doc.split(' ')\n",
        "# doc = [i for i in doc if i != '']"
      ],
      "execution_count": 0,
      "outputs": []
    },
    {
      "cell_type": "code",
      "metadata": {
        "id": "Uczvg5Ra7RoI",
        "colab_type": "code",
        "outputId": "009ee137-4a13-4e0c-f7ca-22bead3da972",
        "colab": {
          "base_uri": "https://localhost:8080/",
          "height": 54
        }
      },
      "source": [
        "doc"
      ],
      "execution_count": 24,
      "outputs": [
        {
          "output_type": "execute_result",
          "data": {
            "text/plain": [
              "\"I bought my first HP12C in about 1984 or so, and it served me faithfully until 2002 when I lost it while travelling.  I searched for another one to replace it, but found one difficult to come by in my area.  So, I decided to buy up and purchased an HP 49G.  What a mistake!  I know that many people view the HP 49G (now 49G+) as the flagship of the HP line, but for me that was a disaster.The 49G may be powerful, but using it is extremely counterintuitive...and the manual was sketchy at best.  The 12C, on the other hand, does what I need in a way that makes good sense to me.If you are looking for a solid, reliable calculator, the HP12C may be for you.  It's programmable.  It does basic statistics well, and many business applications too.  The manual makes sense; you will be up and running in short order.I'm ready to set my 49G aside and move back to my old friend.  I didn't even have to replace the batteries in well over a decade of use!HP 12C, I'm coming home!\""
            ]
          },
          "metadata": {
            "tags": []
          },
          "execution_count": 24
        }
      ]
    },
    {
      "cell_type": "code",
      "metadata": {
        "id": "9V5vsHgY7TNA",
        "colab_type": "code",
        "colab": {}
      },
      "source": [
        "def sentiment(data):\n",
        "    doc = data['reviewText']\n",
        "    tokens = word_tokenize(doc)\n",
        "    lemmatizer = WordNetLemmatizer()\n",
        "    tags = nltk.pos_tag(tokens)\n",
        "    pos_adj = []\n",
        "    neg_adj = []\n",
        "    for tup in tags:\n",
        "        if 'jj' in tup[1].lower():\n",
        "            lemma = lemmatizer.lemmatize(tup[0], pos='a')\n",
        "            # print(lemma, len(lemma))\n",
        "            if lemma in pos:\n",
        "                pos_adj.append(lemma)\n",
        "            elif lemma in neg:\n",
        "                neg_adj.append(lemma)    \n",
        "    return {'Positive': pos_adj, 'Number of Positive': len(pos_adj),'Negative': neg_adj, 'Number of Negative': len(neg_adj)}"
      ],
      "execution_count": 0,
      "outputs": []
    },
    {
      "cell_type": "code",
      "metadata": {
        "id": "dzFGrXAv97Vs",
        "colab_type": "code",
        "colab": {}
      },
      "source": [
        "data['sentiment'] = data[:1000].apply(sentiment, axis=1)"
      ],
      "execution_count": 0,
      "outputs": []
    },
    {
      "cell_type": "code",
      "metadata": {
        "id": "2hjnxhWwD0fg",
        "colab_type": "code",
        "outputId": "9bd094f9-fb0c-4402-ea66-a9d0db22ceb4",
        "colab": {
          "base_uri": "https://localhost:8080/",
          "height": 118
        }
      },
      "source": [
        "data['sentiment'].head()"
      ],
      "execution_count": 18,
      "outputs": [
        {
          "output_type": "execute_result",
          "data": {
            "text/plain": [
              "0    {'Positive': ['powerful', 'best', 'good', 'sol...\n",
              "1    {'Positive': ['satisfied', 'best', 'golden', '...\n",
              "2    {'Positive': ['flawless', 'available', 'great'...\n",
              "3    {'Positive': ['good', 'available', 'great', 'l...\n",
              "4    {'Positive': ['best', 'easy', 'intuitive', 'ea...\n",
              "Name: sentiment, dtype: object"
            ]
          },
          "metadata": {
            "tags": []
          },
          "execution_count": 18
        }
      ]
    },
    {
      "cell_type": "code",
      "metadata": {
        "id": "41ZtrY_cD4wE",
        "colab_type": "code",
        "outputId": "0bf295b7-7601-46ed-8a0e-ad7bcdb745cb",
        "colab": {
          "base_uri": "https://localhost:8080/",
          "height": 84
        }
      },
      "source": [
        "data['sentiment'][0]"
      ],
      "execution_count": 19,
      "outputs": [
        {
          "output_type": "execute_result",
          "data": {
            "text/plain": [
              "{'Negative': ['difficult'],\n",
              " 'Number of Negative': 1,\n",
              " 'Number of Positive': 6,\n",
              " 'Positive': ['powerful', 'best', 'good', 'solid', 'reliable', 'ready']}"
            ]
          },
          "metadata": {
            "tags": []
          },
          "execution_count": 19
        }
      ]
    },
    {
      "cell_type": "code",
      "metadata": {
        "id": "jKHNzcrSqNtC",
        "colab_type": "code",
        "colab": {}
      },
      "source": [
        ""
      ],
      "execution_count": 0,
      "outputs": []
    }
  ]
}