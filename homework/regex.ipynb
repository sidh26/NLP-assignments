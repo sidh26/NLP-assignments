{
  "nbformat": 4,
  "nbformat_minor": 0,
  "metadata": {
    "colab": {
      "name": "regex.ipynb",
      "provenance": [],
      "collapsed_sections": [],
      "include_colab_link": true
    },
    "kernelspec": {
      "name": "python3",
      "display_name": "Python 3"
    },
    "accelerator": "GPU"
  },
  "cells": [
    {
      "cell_type": "markdown",
      "metadata": {
        "id": "view-in-github",
        "colab_type": "text"
      },
      "source": [
        "<a href=\"https://colab.research.google.com/github/sidh26/NLP-assignments/blob/master/homework/regex.ipynb\" target=\"_parent\"><img src=\"https://colab.research.google.com/assets/colab-badge.svg\" alt=\"Open In Colab\"/></a>"
      ]
    },
    {
      "cell_type": "code",
      "metadata": {
        "id": "5Q2H9Wg4T0v8",
        "colab_type": "code",
        "colab": {}
      },
      "source": [
        "import pandas as pd\n",
        "from collections import Counter\n",
        "import re"
      ],
      "execution_count": 0,
      "outputs": []
    },
    {
      "cell_type": "code",
      "metadata": {
        "id": "CaXKuytbUa96",
        "colab_type": "code",
        "colab": {}
      },
      "source": [
        "data = pd.read_json(\"http://snap.stanford.edu/data/amazon/productGraph/categoryFiles/reviews_Office_Products_5.json.gz\", lines=True)"
      ],
      "execution_count": 0,
      "outputs": []
    },
    {
      "cell_type": "markdown",
      "metadata": {
        "id": "kzK611xiveGL",
        "colab_type": "text"
      },
      "source": [
        "# Words not starting with b/\\_b or ending with g/g\\_"
      ]
    },
    {
      "cell_type": "code",
      "metadata": {
        "id": "mj4DBLzZqMFe",
        "colab_type": "code",
        "colab": {}
      },
      "source": [
        "doc = data.iloc[0,4]\n",
        "# doc = doc.lower()\n",
        "doc = re.sub(r'[^A-Za-z0-9\\s]', ' ', doc)\n",
        "doc = doc.split(' ')\n",
        "doc = [i for i in doc if i != '']"
      ],
      "execution_count": 0,
      "outputs": []
    },
    {
      "cell_type": "code",
      "metadata": {
        "colab_type": "code",
        "id": "d9JlGs3I1_qw",
        "colab": {}
      },
      "source": [
        "# doc = ['bail', 'yes', 'cooling', 'biting']"
      ],
      "execution_count": 0,
      "outputs": []
    },
    {
      "cell_type": "code",
      "metadata": {
        "id": "qveRztljvo8k",
        "colab_type": "code",
        "outputId": "8f6b6c34-d83d-42b6-e0d5-8e234a466e3a",
        "colab": {
          "base_uri": "https://localhost:8080/",
          "height": 54
        }
      },
      "source": [
        "ans = []\n",
        "for word in doc:\n",
        "    cond1 = re.findall(r'\\w*[^Gg]\\b', word)\n",
        "    cond2 = re.findall(r'\\b[^Bb]\\w*', word)\n",
        "    if word in cond1 and word in cond2:\n",
        "        ans.append(word)\n",
        "print(ans)"
      ],
      "execution_count": 34,
      "outputs": [
        {
          "output_type": "stream",
          "text": [
            "['I', 'my', 'first', 'HP12C', 'in', 'about', '1984', 'or', 'so', 'and', 'it', 'served', 'me', 'faithfully', 'until', '2002', 'when', 'I', 'lost', 'it', 'while', 'I', 'searched', 'for', 'another', 'one', 'to', 'replace', 'it', 'found', 'one', 'difficult', 'to', 'come', 'in', 'my', 'area', 'So', 'I', 'decided', 'to', 'up', 'and', 'purchased', 'an', 'HP', 'What', 'a', 'mistake', 'I', 'know', 'that', 'many', 'people', 'view', 'the', 'HP', 'now', 'as', 'the', 'flagship', 'of', 'the', 'HP', 'line', 'for', 'me', 'that', 'was', 'a', 'disaster', 'The', 'may', 'powerful', 'it', 'is', 'extremely', 'counterintuitive', 'and', 'the', 'manual', 'was', 'sketchy', 'at', 'The', '12C', 'on', 'the', 'other', 'hand', 'does', 'what', 'I', 'need', 'in', 'a', 'way', 'that', 'makes', 'good', 'sense', 'to', 'me', 'If', 'you', 'are', 'for', 'a', 'solid', 'reliable', 'calculator', 'the', 'HP12C', 'may', 'for', 'you', 'It', 's', 'programmable', 'It', 'does', 'statistics', 'well', 'and', 'many', 'applications', 'too', 'The', 'manual', 'makes', 'sense', 'you', 'will', 'up', 'and', 'in', 'short', 'order', 'I', 'm', 'ready', 'to', 'set', 'my', 'aside', 'and', 'move', 'to', 'my', 'old', 'friend', 'I', 'didn', 't', 'even', 'have', 'to', 'replace', 'the', 'in', 'well', 'over', 'a', 'decade', 'of', 'use', 'HP', '12C', 'I', 'm', 'home']\n"
          ],
          "name": "stdout"
        }
      ]
    },
    {
      "cell_type": "code",
      "metadata": {
        "id": "ZkhQ7SjH2HOK",
        "colab_type": "code",
        "colab": {}
      },
      "source": [
        ""
      ],
      "execution_count": 0,
      "outputs": []
    }
  ]
}