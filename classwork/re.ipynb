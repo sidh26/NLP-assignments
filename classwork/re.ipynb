{
  "nbformat": 4,
  "nbformat_minor": 0,
  "metadata": {
    "colab": {
      "name": "word count.ipynb",
      "provenance": [],
      "collapsed_sections": [],
      "machine_shape": "hm",
      "include_colab_link": true
    },
    "kernelspec": {
      "name": "python3",
      "display_name": "Python 3"
    },
    "accelerator": "GPU"
  },
  "cells": [
    {
      "cell_type": "markdown",
      "metadata": {
        "id": "view-in-github",
        "colab_type": "text"
      },
      "source": [
        "<a href=\"https://colab.research.google.com/github/sidh26/NLP-assignments/blob/master/classwork/re.ipynb\" target=\"_parent\"><img src=\"https://colab.research.google.com/assets/colab-badge.svg\" alt=\"Open In Colab\"/></a>"
      ]
    },
    {
      "cell_type": "code",
      "metadata": {
        "id": "5Q2H9Wg4T0v8",
        "colab_type": "code",
        "colab": {}
      },
      "source": [
        "import pandas as pd\n",
        "from collections import Counter\n",
        "import re"
      ],
      "execution_count": 0,
      "outputs": []
    },
    {
      "cell_type": "code",
      "metadata": {
        "id": "CaXKuytbUa96",
        "colab_type": "code",
        "colab": {}
      },
      "source": [
        "data = pd.read_json(\"http://snap.stanford.edu/data/amazon/productGraph/categoryFiles/reviews_Office_Products_5.json.gz\", lines=True)"
      ],
      "execution_count": 0,
      "outputs": []
    },
    {
      "cell_type": "code",
      "metadata": {
        "id": "6Ix8YQrXUeni",
        "colab_type": "code",
        "outputId": "30158183-ef86-4b0f-d7b6-7c8b5144d2a9",
        "colab": {
          "base_uri": "https://localhost:8080/",
          "height": 229
        }
      },
      "source": [
        "data.head()"
      ],
      "execution_count": 0,
      "outputs": [
        {
          "output_type": "execute_result",
          "data": {
            "text/html": [
              "<div>\n",
              "<style scoped>\n",
              "    .dataframe tbody tr th:only-of-type {\n",
              "        vertical-align: middle;\n",
              "    }\n",
              "\n",
              "    .dataframe tbody tr th {\n",
              "        vertical-align: top;\n",
              "    }\n",
              "\n",
              "    .dataframe thead th {\n",
              "        text-align: right;\n",
              "    }\n",
              "</style>\n",
              "<table border=\"1\" class=\"dataframe\">\n",
              "  <thead>\n",
              "    <tr style=\"text-align: right;\">\n",
              "      <th></th>\n",
              "      <th>reviewerID</th>\n",
              "      <th>asin</th>\n",
              "      <th>reviewerName</th>\n",
              "      <th>helpful</th>\n",
              "      <th>reviewText</th>\n",
              "      <th>overall</th>\n",
              "      <th>summary</th>\n",
              "      <th>unixReviewTime</th>\n",
              "      <th>reviewTime</th>\n",
              "    </tr>\n",
              "  </thead>\n",
              "  <tbody>\n",
              "    <tr>\n",
              "      <th>0</th>\n",
              "      <td>A32T2H8150OJLU</td>\n",
              "      <td>B00000JBLH</td>\n",
              "      <td>ARH</td>\n",
              "      <td>[3, 4]</td>\n",
              "      <td>I bought my first HP12C in about 1984 or so, a...</td>\n",
              "      <td>5</td>\n",
              "      <td>A solid performer, and long time friend</td>\n",
              "      <td>1094169600</td>\n",
              "      <td>09 3, 2004</td>\n",
              "    </tr>\n",
              "    <tr>\n",
              "      <th>1</th>\n",
              "      <td>A3MAFS04ZABRGO</td>\n",
              "      <td>B00000JBLH</td>\n",
              "      <td>Let it Be \"Alan\"</td>\n",
              "      <td>[7, 9]</td>\n",
              "      <td>WHY THIS BELATED REVIEW? I feel very obliged t...</td>\n",
              "      <td>5</td>\n",
              "      <td>Price of GOLD is up, so don't bury the golden ...</td>\n",
              "      <td>1197676800</td>\n",
              "      <td>12 15, 2007</td>\n",
              "    </tr>\n",
              "    <tr>\n",
              "      <th>2</th>\n",
              "      <td>A1F1A0QQP2XVH5</td>\n",
              "      <td>B00000JBLH</td>\n",
              "      <td>Mark B</td>\n",
              "      <td>[3, 3]</td>\n",
              "      <td>I have an HP 48GX that has been kicking for mo...</td>\n",
              "      <td>2</td>\n",
              "      <td>Good functionality, but not durable like old HPs</td>\n",
              "      <td>1293840000</td>\n",
              "      <td>01 1, 2011</td>\n",
              "    </tr>\n",
              "    <tr>\n",
              "      <th>3</th>\n",
              "      <td>A49R5DBXXQDE5</td>\n",
              "      <td>B00000JBLH</td>\n",
              "      <td>R. D Johnson</td>\n",
              "      <td>[7, 8]</td>\n",
              "      <td>I've started doing more finance stuff recently...</td>\n",
              "      <td>5</td>\n",
              "      <td>One of the last of an almost extinct species</td>\n",
              "      <td>1145404800</td>\n",
              "      <td>04 19, 2006</td>\n",
              "    </tr>\n",
              "    <tr>\n",
              "      <th>4</th>\n",
              "      <td>A2XRMQA6PJ5ZJ8</td>\n",
              "      <td>B00000JBLH</td>\n",
              "      <td>Roger J. Buffington</td>\n",
              "      <td>[0, 0]</td>\n",
              "      <td>For simple calculations and discounted cash fl...</td>\n",
              "      <td>5</td>\n",
              "      <td>Still the best</td>\n",
              "      <td>1375574400</td>\n",
              "      <td>08 4, 2013</td>\n",
              "    </tr>\n",
              "  </tbody>\n",
              "</table>\n",
              "</div>"
            ],
            "text/plain": [
              "       reviewerID        asin  ... unixReviewTime   reviewTime\n",
              "0  A32T2H8150OJLU  B00000JBLH  ...     1094169600   09 3, 2004\n",
              "1  A3MAFS04ZABRGO  B00000JBLH  ...     1197676800  12 15, 2007\n",
              "2  A1F1A0QQP2XVH5  B00000JBLH  ...     1293840000   01 1, 2011\n",
              "3   A49R5DBXXQDE5  B00000JBLH  ...     1145404800  04 19, 2006\n",
              "4  A2XRMQA6PJ5ZJ8  B00000JBLH  ...     1375574400   08 4, 2013\n",
              "\n",
              "[5 rows x 9 columns]"
            ]
          },
          "metadata": {
            "tags": []
          },
          "execution_count": 3
        }
      ]
    },
    {
      "cell_type": "code",
      "metadata": {
        "id": "b5QZkN-fXb4X",
        "colab_type": "code",
        "colab": {}
      },
      "source": [
        "def word_count(data):\n",
        "    doc = data['reviewText']\n",
        "    doc = doc.lower()\n",
        "    doc = re.sub(r'[^a-z0-9\\s]', '', doc)\n",
        "    doc = doc.split(' ')\n",
        "    counter1 = Counter(doc)\n",
        "    counter1.pop('', None)\n",
        "    doc = data['summary']\n",
        "    doc = doc.lower()\n",
        "    doc = re.sub(r'[^a-z0-9\\s]', '', doc)\n",
        "    doc = doc.split(' ')\n",
        "    counter2 = Counter(doc)\n",
        "    counter2.pop('', None)\n",
        "    return [counter1, counter2]"
      ],
      "execution_count": 0,
      "outputs": []
    },
    {
      "cell_type": "code",
      "metadata": {
        "id": "wZN_0JNZDPdA",
        "colab_type": "code",
        "outputId": "f80e7d10-267b-4c42-fc41-846f34b959fb",
        "colab": {
          "base_uri": "https://localhost:8080/",
          "height": 195
        }
      },
      "source": [
        "temp = data.apply(word_count, axis=1)\n",
        "ans = pd.DataFrame(temp.values.tolist(), columns=['reviewText_count', 'summary_count'])\n",
        "ans.head()"
      ],
      "execution_count": 0,
      "outputs": [
        {
          "output_type": "execute_result",
          "data": {
            "text/html": [
              "<div>\n",
              "<style scoped>\n",
              "    .dataframe tbody tr th:only-of-type {\n",
              "        vertical-align: middle;\n",
              "    }\n",
              "\n",
              "    .dataframe tbody tr th {\n",
              "        vertical-align: top;\n",
              "    }\n",
              "\n",
              "    .dataframe thead th {\n",
              "        text-align: right;\n",
              "    }\n",
              "</style>\n",
              "<table border=\"1\" class=\"dataframe\">\n",
              "  <thead>\n",
              "    <tr style=\"text-align: right;\">\n",
              "      <th></th>\n",
              "      <th>reviewText_count</th>\n",
              "      <th>summary_count</th>\n",
              "    </tr>\n",
              "  </thead>\n",
              "  <tbody>\n",
              "    <tr>\n",
              "      <th>0</th>\n",
              "      <td>{'i': 7, 'bought': 1, 'my': 4, 'first': 1, 'hp...</td>\n",
              "      <td>{'a': 1, 'solid': 1, 'performer': 1, 'and': 1,...</td>\n",
              "    </tr>\n",
              "    <tr>\n",
              "      <th>1</th>\n",
              "      <td>{'why': 2, 'this': 13, 'belated': 1, 'review':...</td>\n",
              "      <td>{'price': 1, 'of': 1, 'gold': 1, 'is': 1, 'up'...</td>\n",
              "    </tr>\n",
              "    <tr>\n",
              "      <th>2</th>\n",
              "      <td>{'i': 2, 'have': 3, 'an': 2, 'hp': 3, '48gx': ...</td>\n",
              "      <td>{'good': 1, 'functionality': 1, 'but': 1, 'not...</td>\n",
              "    </tr>\n",
              "    <tr>\n",
              "      <th>3</th>\n",
              "      <td>{'ive': 4, 'started': 1, 'doing': 2, 'more': 3...</td>\n",
              "      <td>{'one': 1, 'of': 2, 'the': 1, 'last': 1, 'an':...</td>\n",
              "    </tr>\n",
              "    <tr>\n",
              "      <th>4</th>\n",
              "      <td>{'for': 4, 'simple': 1, 'calculations': 2, 'an...</td>\n",
              "      <td>{'still': 1, 'the': 1, 'best': 1}</td>\n",
              "    </tr>\n",
              "  </tbody>\n",
              "</table>\n",
              "</div>"
            ],
            "text/plain": [
              "                                    reviewText_count                                      summary_count\n",
              "0  {'i': 7, 'bought': 1, 'my': 4, 'first': 1, 'hp...  {'a': 1, 'solid': 1, 'performer': 1, 'and': 1,...\n",
              "1  {'why': 2, 'this': 13, 'belated': 1, 'review':...  {'price': 1, 'of': 1, 'gold': 1, 'is': 1, 'up'...\n",
              "2  {'i': 2, 'have': 3, 'an': 2, 'hp': 3, '48gx': ...  {'good': 1, 'functionality': 1, 'but': 1, 'not...\n",
              "3  {'ive': 4, 'started': 1, 'doing': 2, 'more': 3...  {'one': 1, 'of': 2, 'the': 1, 'last': 1, 'an':...\n",
              "4  {'for': 4, 'simple': 1, 'calculations': 2, 'an...                  {'still': 1, 'the': 1, 'best': 1}"
            ]
          },
          "metadata": {
            "tags": []
          },
          "execution_count": 5
        }
      ]
    },
    {
      "cell_type": "markdown",
      "metadata": {
        "id": "bM7kVlezqP0e",
        "colab_type": "text"
      },
      "source": [
        "# Code for word vowel and const count"
      ]
    },
    {
      "cell_type": "code",
      "metadata": {
        "id": "0boLdM3Tk0Oo",
        "colab_type": "code",
        "colab": {}
      },
      "source": [
        "def wvc_count(data):\n",
        "    doc = data['reviewText']\n",
        "    doc = doc.lower()\n",
        "    doc = re.sub(r'[^a-z0-9\\s]', '', doc)\n",
        "    vc=0\n",
        "    cc=0\n",
        "    for letter in doc:\n",
        "        if letter in ['a', 'e', 'i', 'o', 'u']:\n",
        "            vc+=1\n",
        "        elif letter.isalpha():\n",
        "            cc+=1\n",
        "    doc = doc.split(' ')\n",
        "    wc=len([i for i in doc if i != ''])\n",
        "    return {'vowel_count':vc,'const_count': cc,'word_count': wc}"
      ],
      "execution_count": 0,
      "outputs": []
    },
    {
      "cell_type": "code",
      "metadata": {
        "id": "ndbAu3PXlUZG",
        "colab_type": "code",
        "colab": {}
      },
      "source": [
        "data['counts'] = data.apply(wvc_count, axis=1)\n",
        "data.head()"
      ],
      "execution_count": 0,
      "outputs": []
    },
    {
      "cell_type": "code",
      "metadata": {
        "id": "TcyXWDmQp357",
        "colab_type": "code",
        "colab": {
          "base_uri": "https://localhost:8080/",
          "height": 34
        },
        "outputId": "07effd85-4fb7-43c5-ccbe-cba6888d151f"
      },
      "source": [
        "doc = data.iloc[0,4]\n",
        "doc = doc.lower()\n",
        "doc = re.sub(r'[^a-z0-9\\s]', '', doc)\n",
        "vc=0\n",
        "cc=0\n",
        "for letter in doc:\n",
        "    if letter in ['a', 'e', 'i', 'o', 'u']:\n",
        "        vc+=1\n",
        "    elif letter.isalpha():\n",
        "        cc+=1\n",
        "\n",
        "doc = doc.split(' ')\n",
        "wc=len([i for i in doc if i != ''])\n",
        "print(vc,cc,wc)"
      ],
      "execution_count": 27,
      "outputs": [
        {
          "output_type": "stream",
          "text": [
            "279 437 186\n"
          ],
          "name": "stdout"
        }
      ]
    },
    {
      "cell_type": "markdown",
      "metadata": {
        "id": "kzK611xiveGL",
        "colab_type": "text"
      },
      "source": [
        "# Words starting with b or ending with g"
      ]
    },
    {
      "cell_type": "code",
      "metadata": {
        "id": "mj4DBLzZqMFe",
        "colab_type": "code",
        "colab": {}
      },
      "source": [
        "doc = data.iloc[0,4]\n",
        "# doc = doc.lower()\n",
        "doc = re.sub(r'[^A-Za-z0-9\\s]', ' ', doc)\n",
        "# doc = doc.split(' ')"
      ],
      "execution_count": 0,
      "outputs": []
    },
    {
      "cell_type": "code",
      "metadata": {
        "id": "buVtKfU9vnmG",
        "colab_type": "code",
        "colab": {
          "base_uri": "https://localhost:8080/",
          "height": 54
        },
        "outputId": "4ef4ebdb-a3a8-46f5-e93d-96b52355bce1"
      },
      "source": [
        "doc"
      ],
      "execution_count": 77,
      "outputs": [
        {
          "output_type": "execute_result",
          "data": {
            "text/plain": [
              "'I bought my first HP12C in about 1984 or so  and it served me faithfully until 2002 when I lost it while travelling   I searched for another one to replace it  but found one difficult to come by in my area   So  I decided to buy up and purchased an HP 49G   What a mistake   I know that many people view the HP 49G  now 49G   as the flagship of the HP line  but for me that was a disaster The 49G may be powerful  but using it is extremely counterintuitive   and the manual was sketchy at best   The 12C  on the other hand  does what I need in a way that makes good sense to me If you are looking for a solid  reliable calculator  the HP12C may be for you   It s programmable   It does basic statistics well  and many business applications too   The manual makes sense  you will be up and running in short order I m ready to set my 49G aside and move back to my old friend   I didn t even have to replace the batteries in well over a decade of use HP 12C  I m coming home '"
            ]
          },
          "metadata": {
            "tags": []
          },
          "execution_count": 77
        }
      ]
    },
    {
      "cell_type": "code",
      "metadata": {
        "id": "qveRztljvo8k",
        "colab_type": "code",
        "colab": {}
      },
      "source": [
        "ans=re.findall(r'\\s[Bb]\\w*\\s|\\s\\w*[Gg]\\s', doc)"
      ],
      "execution_count": 0,
      "outputs": []
    },
    {
      "cell_type": "code",
      "metadata": {
        "id": "_g1FGPhwwkcr",
        "colab_type": "code",
        "colab": {
          "base_uri": "https://localhost:8080/",
          "height": 403
        },
        "outputId": "2b77e2b4-48fd-42fc-eae2-1ae6506833cc"
      },
      "source": [
        "ans"
      ],
      "execution_count": 79,
      "outputs": [
        {
          "output_type": "execute_result",
          "data": {
            "text/plain": [
              "[' bought ',\n",
              " ' travelling ',\n",
              " ' but ',\n",
              " ' by ',\n",
              " ' buy ',\n",
              " ' 49G ',\n",
              " ' 49G ',\n",
              " ' 49G ',\n",
              " ' but ',\n",
              " ' 49G ',\n",
              " ' be ',\n",
              " ' but ',\n",
              " ' best ',\n",
              " ' looking ',\n",
              " ' be ',\n",
              " ' basic ',\n",
              " ' business ',\n",
              " ' be ',\n",
              " ' running ',\n",
              " ' 49G ',\n",
              " ' back ',\n",
              " ' batteries ',\n",
              " ' coming ']"
            ]
          },
          "metadata": {
            "tags": []
          },
          "execution_count": 79
        }
      ]
    },
    {
      "cell_type": "code",
      "metadata": {
        "id": "Stgbr1ivyXHa",
        "colab_type": "code",
        "colab": {}
      },
      "source": [
        ""
      ],
      "execution_count": 0,
      "outputs": []
    }
  ]
}