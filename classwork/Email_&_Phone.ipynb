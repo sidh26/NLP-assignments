{
  "nbformat": 4,
  "nbformat_minor": 0,
  "metadata": {
    "colab": {
      "name": "Email & Phone.ipynb",
      "provenance": [],
      "authorship_tag": "ABX9TyOqwhf+ZZG1gjpWtYxT3s7M",
      "include_colab_link": true
    },
    "kernelspec": {
      "name": "python3",
      "display_name": "Python 3"
    }
  },
  "cells": [
    {
      "cell_type": "markdown",
      "metadata": {
        "id": "view-in-github",
        "colab_type": "text"
      },
      "source": [
        "<a href=\"https://colab.research.google.com/github/sidh26/NLP-assignments/blob/master/classwork/Email_%26_Phone.ipynb\" target=\"_parent\"><img src=\"https://colab.research.google.com/assets/colab-badge.svg\" alt=\"Open In Colab\"/></a>"
      ]
    },
    {
      "cell_type": "code",
      "metadata": {
        "id": "SE5DGv5U9OLD",
        "colab_type": "code",
        "colab": {}
      },
      "source": [
        "import re"
      ],
      "execution_count": 0,
      "outputs": []
    },
    {
      "cell_type": "code",
      "metadata": {
        "id": "HuNYf6-y_wrF",
        "colab_type": "code",
        "colab": {}
      },
      "source": [
        "mail = 'sidhsatam@gmail.com sidh.satam@gmail.com a.b.cdef@gmail.com abcdef@nmims.edu.in apple orange 123abc@gmail.com.in a1b2c3_d4e5@gmail.com'"
      ],
      "execution_count": 0,
      "outputs": []
    },
    {
      "cell_type": "code",
      "metadata": {
        "id": "HbZ1GJRI_ytS",
        "colab_type": "code",
        "colab": {
          "base_uri": "https://localhost:8080/",
          "height": 118
        },
        "outputId": "6ea129bc-787c-4195-dd3d-2ab803db415f"
      },
      "source": [
        "re.findall(\"[\\w|\\.]+@[\\w|\\.]+\", mail)"
      ],
      "execution_count": 11,
      "outputs": [
        {
          "output_type": "execute_result",
          "data": {
            "text/plain": [
              "['sidhsatam@gmail.com',\n",
              " 'sidh.satam@gmail.com',\n",
              " 'a.b.cdef@gmail.com',\n",
              " 'abcdef@nmims.edu.in',\n",
              " '123abc@gmail.com.in',\n",
              " 'a1b2c3_d4e5@gmail.com']"
            ]
          },
          "metadata": {
            "tags": []
          },
          "execution_count": 11
        }
      ]
    },
    {
      "cell_type": "code",
      "metadata": {
        "id": "lYKSUVCk_3LW",
        "colab_type": "code",
        "colab": {}
      },
      "source": [
        "num ='1029384756 wi6758493021'"
      ],
      "execution_count": 0,
      "outputs": []
    },
    {
      "cell_type": "code",
      "metadata": {
        "id": "n29gzVpK_5Gm",
        "colab_type": "code",
        "colab": {
          "base_uri": "https://localhost:8080/",
          "height": 34
        },
        "outputId": "d5989b4d-1351-49ea-f5e9-d04ca5403d2f"
      },
      "source": [
        "re.findall(\"\\d{10}\\s\", num)"
      ],
      "execution_count": 13,
      "outputs": [
        {
          "output_type": "execute_result",
          "data": {
            "text/plain": [
              "['1029384756 ']"
            ]
          },
          "metadata": {
            "tags": []
          },
          "execution_count": 13
        }
      ]
    },
    {
      "cell_type": "code",
      "metadata": {
        "id": "oKWqvPJeEm0W",
        "colab_type": "code",
        "colab": {}
      },
      "source": [
        ""
      ],
      "execution_count": 0,
      "outputs": []
    }
  ]
}